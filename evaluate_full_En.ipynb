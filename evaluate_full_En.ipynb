{
 "cells": [
  {
   "cell_type": "code",
   "execution_count": 1,
   "metadata": {},
   "outputs": [],
   "source": [
    "from evaluation import JSONParseEvaluator\n",
    "\n",
    "import os, glob, json\n",
    "import argparse\n",
    "import numpy as np\n",
    "from tqdm import tqdm\n",
    "from os.path import join, basename, splitext"
   ]
  },
  {
   "cell_type": "code",
   "execution_count": 2,
   "metadata": {},
   "outputs": [],
   "source": [
    "field_list = [ 'current_institute', 'name', 'gender', 'birth', 'age', 'address', 'tel_customer', 'id_bhyt', 'diagnosis', 'date_in', 'doctor_name', 'drug_name', 'drug_dose', 'drug_quantity']\n",
    "\n",
    "def convert_dict_concern_fileds(raw_dict: dict, concern_fileds=None, is_label=True):\n",
    "    res = {}\n",
    "    if concern_fileds is None:\n",
    "        concern_fileds = list(raw_dict.keys())\n",
    "\n",
    "    for field,data in raw_dict.items():\n",
    "        field = field.replace(' ', '_')\n",
    "        if field in concern_fileds:\n",
    "            res[field] = data['value'].lower() if is_label else data.lower()\n",
    "    return res\n"
   ]
  },
  {
   "cell_type": "code",
   "execution_count": 3,
   "metadata": {},
   "outputs": [],
   "source": [
    "def convert_output(output):\n",
    "    list = [ 'current_institute', 'gender', 'birth', 'age', 'address', 'tel_customer', 'id_bhyt', 'diagnosis', 'date_in', 'doctor_name']\n",
    "    list_drug = ['drug_name', 'drug_dose', 'drug_quantity']\n",
    "    result = {}\n",
    "    result['name'] = ''\n",
    "    if 'name' in output.keys():\n",
    "        result['name'] = output['name']\n",
    "    if 'patient_name' in output.keys():\n",
    "        result['name'] = output['patient_name']\n",
    "    for field in list:\n",
    "        try:\n",
    "            result[field] = output[field]\n",
    "        except:\n",
    "            result[field] = ''\n",
    "    if 'drugs' in output.keys():\n",
    "        for field in list_drug:\n",
    "            value = \"\"\n",
    "            for drug in output['drugs']:\n",
    "                for key, val in drug.items():\n",
    "                    if key == field:\n",
    "                        value += val\n",
    "            result[field] = value\n",
    "    return result"
   ]
  },
  {
   "cell_type": "markdown",
   "metadata": {},
   "source": [
    "### Read files (labels and predicts)"
   ]
  },
  {
   "cell_type": "code",
   "execution_count": 4,
   "metadata": {},
   "outputs": [],
   "source": [
    "path_mistral = '/home/vinbig/Documents/PA_Modeling/Prompt/private_test_Pharma_out_full_En/Mistral-7B'\n",
    "path_mistral_json = '/home/vinbig/Documents/PA_Modeling/Prompt/private_test_Pharma_out_full_En/Mistral-7B-json'\n",
    "\n",
    "path_labels = '/home/vinbig/Documents/PA_Modeling/Prompt/prescription_label_text/KIEs'"
   ]
  },
  {
   "cell_type": "code",
   "execution_count": 5,
   "metadata": {},
   "outputs": [],
   "source": [
    "def get_outputs_labels(path_output, path_labels):\n",
    "    names = os.listdir(path_output)\n",
    "    name_txts = []\n",
    "    preds = []\n",
    "    labels = []\n",
    "    for name in names:\n",
    "        # check file json\n",
    "        if name.split('.')[1] == 'txt':\n",
    "            name_txts.append(name)\n",
    "            continue\n",
    "\n",
    "        # correct -> read output and label\n",
    "        pred_path = os.path.join(path_output, name)\n",
    "        with open(pred_path, 'r') as f:\n",
    "            pred = json.load(f)\n",
    "            pred = convert_output(pred)\n",
    "\n",
    "        label_path = os.path.join(path_labels, name)\n",
    "        with open(label_path, 'r') as f:\n",
    "            label = json.load(f)\n",
    "        \n",
    "        label = convert_dict_concern_fileds(label, concern_fileds=field_list)\n",
    "        pred  = convert_dict_concern_fileds(pred, concern_fileds=field_list, is_label=False)\n",
    "\n",
    "        labels.append(label)\n",
    "        preds.append(pred)\n",
    "    return preds, labels, name_txts"
   ]
  },
  {
   "cell_type": "code",
   "execution_count": 6,
   "metadata": {},
   "outputs": [],
   "source": [
    "def compute_acc(preds, labels):\n",
    "    evaluator = JSONParseEvaluator()\n",
    "    accs = []\n",
    "    for i in range (len(labels)):\n",
    "        acc = evaluator.cal_acc(pred=preds[i], answer=labels[i])\n",
    "        accs.append(acc)\n",
    "    return np.mean(accs)"
   ]
  },
  {
   "cell_type": "markdown",
   "metadata": {},
   "source": [
    "### Read each field\n"
   ]
  },
  {
   "cell_type": "code",
   "execution_count": 7,
   "metadata": {},
   "outputs": [],
   "source": [
    "def get_each_field(field, input):\n",
    "    result = {}\n",
    "    try:\n",
    "        result[field] = input[field]\n",
    "    except:\n",
    "        result[field] = \"\"\n",
    "    return result"
   ]
  },
  {
   "cell_type": "markdown",
   "metadata": {},
   "source": [
    "# Compute"
   ]
  },
  {
   "cell_type": "code",
   "execution_count": 10,
   "metadata": {},
   "outputs": [],
   "source": [
    "def compute(preds, labels, name_txts, field_list):\n",
    "    print(\"Số lượng file đúng format: \", len(preds), '/249')\n",
    "    acc_mean = []\n",
    "    # all field\n",
    "    acc = compute_acc(preds, labels)\n",
    "    acc_mean.append(acc)\n",
    "\n",
    "    #each field\n",
    "    for field in field_list:\n",
    "        preds_field = [get_each_field(field=field, input=pred) for pred in preds]\n",
    "        labels_field = [get_each_field(field=field, input=label) for label in labels]\n",
    "        acc_mean.append(compute_acc(preds_field, labels_field))\n",
    "\n",
    "    return acc_mean"
   ]
  },
  {
   "cell_type": "code",
   "execution_count": 11,
   "metadata": {},
   "outputs": [
    {
     "name": "stdout",
     "output_type": "stream",
     "text": [
      "Mistral\n",
      "Số lượng file đúng format:  245 /249\n"
     ]
    },
    {
     "name": "stderr",
     "output_type": "stream",
     "text": [
      "/home/vinbig/Documents/PA_Modeling/Prompt/evaluation.py:221: RuntimeWarning: invalid value encountered in scalar divide\n",
      "  zss.distance(\n",
      "/home/vinbig/Documents/PA_Modeling/Prompt/evaluation.py:221: RuntimeWarning: divide by zero encountered in scalar divide\n",
      "  zss.distance(\n"
     ]
    }
   ],
   "source": [
    "print('Mistral')\n",
    "preds, labels, name_txts = get_outputs_labels(path_labels=path_labels, path_output=path_mistral)\n",
    "acc_mean = compute(preds, labels, name_txts, field_list)"
   ]
  },
  {
   "cell_type": "code",
   "execution_count": 15,
   "metadata": {},
   "outputs": [
    {
     "name": "stdout",
     "output_type": "stream",
     "text": [
      "Mistral Json\n",
      "Số lượng file đúng format:  245 /249\n"
     ]
    },
    {
     "name": "stderr",
     "output_type": "stream",
     "text": [
      "/home/vinbig/Documents/PA_Modeling/Prompt/evaluation.py:221: RuntimeWarning: invalid value encountered in scalar divide\n",
      "  zss.distance(\n",
      "/home/vinbig/Documents/PA_Modeling/Prompt/evaluation.py:221: RuntimeWarning: divide by zero encountered in scalar divide\n",
      "  zss.distance(\n"
     ]
    }
   ],
   "source": [
    "print('Mistral Json')\n",
    "preds_json, labels_json, name_txts_json = get_outputs_labels(path_labels=path_labels, path_output=path_mistral_json)\n",
    "acc_mean_json = compute(preds_json, labels_json, name_txts_json, field_list)"
   ]
  },
  {
   "cell_type": "code",
   "execution_count": 16,
   "metadata": {},
   "outputs": [
    {
     "data": {
      "text/html": [
       "<div>\n",
       "<style scoped>\n",
       "    .dataframe tbody tr th:only-of-type {\n",
       "        vertical-align: middle;\n",
       "    }\n",
       "\n",
       "    .dataframe tbody tr th {\n",
       "        vertical-align: top;\n",
       "    }\n",
       "\n",
       "    .dataframe thead th {\n",
       "        text-align: right;\n",
       "    }\n",
       "</style>\n",
       "<table border=\"1\" class=\"dataframe\">\n",
       "  <thead>\n",
       "    <tr style=\"text-align: right;\">\n",
       "      <th></th>\n",
       "      <th>all</th>\n",
       "      <th>current_institute</th>\n",
       "      <th>name</th>\n",
       "      <th>gender</th>\n",
       "      <th>birth</th>\n",
       "      <th>age</th>\n",
       "      <th>address</th>\n",
       "      <th>tel_customer</th>\n",
       "      <th>id_bhyt</th>\n",
       "      <th>diagnosis</th>\n",
       "      <th>date_in</th>\n",
       "      <th>doctor_name</th>\n",
       "      <th>drug_name</th>\n",
       "      <th>drug_dose</th>\n",
       "      <th>drug_quantity</th>\n",
       "    </tr>\n",
       "  </thead>\n",
       "  <tbody>\n",
       "    <tr>\n",
       "      <th>mistral</th>\n",
       "      <td>0.701759</td>\n",
       "      <td>0.574971</td>\n",
       "      <td>0.948378</td>\n",
       "      <td>0.797551</td>\n",
       "      <td>0.441965</td>\n",
       "      <td>0.225430</td>\n",
       "      <td>0.852804</td>\n",
       "      <td>0.386400</td>\n",
       "      <td>0.300108</td>\n",
       "      <td>0.836901</td>\n",
       "      <td>0.543002</td>\n",
       "      <td>0.478865</td>\n",
       "      <td>0.734289</td>\n",
       "      <td>0.652821</td>\n",
       "      <td>0.672874</td>\n",
       "    </tr>\n",
       "    <tr>\n",
       "      <th>mistral_json</th>\n",
       "      <td>0.701406</td>\n",
       "      <td>0.577779</td>\n",
       "      <td>0.948378</td>\n",
       "      <td>0.797551</td>\n",
       "      <td>0.446046</td>\n",
       "      <td>0.230872</td>\n",
       "      <td>0.854569</td>\n",
       "      <td>0.390482</td>\n",
       "      <td>0.296536</td>\n",
       "      <td>0.837068</td>\n",
       "      <td>0.548889</td>\n",
       "      <td>0.480296</td>\n",
       "      <td>0.732232</td>\n",
       "      <td>0.651322</td>\n",
       "      <td>0.671675</td>\n",
       "    </tr>\n",
       "  </tbody>\n",
       "</table>\n",
       "</div>"
      ],
      "text/plain": [
       "                   all  current_institute      name    gender     birth  \\\n",
       "mistral       0.701759           0.574971  0.948378  0.797551  0.441965   \n",
       "mistral_json  0.701406           0.577779  0.948378  0.797551  0.446046   \n",
       "\n",
       "                   age   address  tel_customer   id_bhyt  diagnosis   date_in  \\\n",
       "mistral       0.225430  0.852804      0.386400  0.300108   0.836901  0.543002   \n",
       "mistral_json  0.230872  0.854569      0.390482  0.296536   0.837068  0.548889   \n",
       "\n",
       "              doctor_name  drug_name  drug_dose  drug_quantity  \n",
       "mistral          0.478865   0.734289   0.652821       0.672874  \n",
       "mistral_json     0.480296   0.732232   0.651322       0.671675  "
      ]
     },
     "execution_count": 16,
     "metadata": {},
     "output_type": "execute_result"
    }
   ],
   "source": [
    "import pandas as pd\n",
    "model_name = [\"mistral\", \"mistral_json\"]\n",
    "column_name_all = ['all', 'current_institute', 'name', 'gender', 'birth', 'age', 'address', 'tel_customer', 'id_bhyt', 'diagnosis', 'date_in', 'doctor_name', 'drug_name', 'drug_dose', 'drug_quantity']\n",
    "df = pd.DataFrame([acc_mean, acc_mean_json], columns=column_name_all, index=model_name)\n",
    "df"
   ]
  },
  {
   "cell_type": "code",
   "execution_count": null,
   "metadata": {},
   "outputs": [],
   "source": []
  },
  {
   "cell_type": "markdown",
   "metadata": {},
   "source": [
    "# Drugs"
   ]
  },
  {
   "cell_type": "code",
   "execution_count": 9,
   "metadata": {},
   "outputs": [
    {
     "data": {
      "text/plain": [
       "{'current_institute': 'bệnh viện đa khoa tỉnh',\n",
       " 'name': 'nguyễn thị dung',\n",
       " 'age': '74',\n",
       " 'tel_customer': '0354 441 597',\n",
       " 'id_bhyt': 'ht2382799088303',\n",
       " 'address': 'tổ 16, quảng thắng, thành phố thanh hóa, tinh thanh hóa, việt nam',\n",
       " 'diagnosis': 'e11 - bệnh đái tháo đường không phụ thuộc insuline / 110 - bệnh lý tăng huyết áp',\n",
       " 'drug_name': 'beticapc 750 sr - 750mg (metformin) diamicron mr 60mg (gliclazide) lisiplus hct 10/12,5 (lisinopril (dihydrat) 10mg + hydroclorothiazid 12,5mg)',\n",
       " 'drug_quantity': 'viên 60 viên 120 viên 60',\n",
       " 'drug_dose': 'uống chiều 1 viên sau ăn ngày uống 02 viên trước ăn sáng uống sáng 1 viên lúc 8h',\n",
       " 'date_in': 'ngày 18 tháng 10 năm 2022',\n",
       " 'doctor_name': 'ngày 18 tháng 10 năm 2021'}"
      ]
     },
     "execution_count": 9,
     "metadata": {},
     "output_type": "execute_result"
    }
   ],
   "source": [
    "\n",
    "field_list_all = [ 'current_institute', 'name', 'gender', 'birth', 'age', 'address', 'tel_customer', 'id_bhyt', 'diagnosis', 'date_in', 'doctor_name', 'drug_name', 'drug_dose', 'drug_quantity']\n",
    "\n",
    "path = \"/home/vinbig/Documents/PA_Modeling/Prompt/prescription_label_text/KIEs/BV_TH_1001.json\"\n",
    "with open(path, 'r') as f:\n",
    "    label = json.load(f)\n",
    "\n",
    "label = convert_dict_concern_fileds(label, field_list_all)\n",
    "label"
   ]
  },
  {
   "cell_type": "code",
   "execution_count": null,
   "metadata": {},
   "outputs": [],
   "source": [
    "preds_json, labels_json, name_txts_json = get_outputs_labels(path_labels=path_labels, path_output=path_mistral)\n",
    "acc_mean_json = compute(preds_json, labels_json, name_txts_json, field_list_all)"
   ]
  },
  {
   "cell_type": "code",
   "execution_count": 31,
   "metadata": {},
   "outputs": [],
   "source": [
    "def convert_output(output):\n",
    "    list = [ 'current_institute', 'gender', 'birth', 'age', 'address', 'tel_customer', 'id_bhyt', 'diagnosis', 'date_in', 'doctor_name']\n",
    "    list_drug = ['drug_name', 'drug_dose', 'drug_quantity']\n",
    "    result = {}\n",
    "    result['name'] = ''\n",
    "    if 'name' in output.keys():\n",
    "        result['name'] = output['name']\n",
    "    if 'patient_name' in output.keys():\n",
    "        result['name'] = output['patient_name']\n",
    "    for field in list:\n",
    "        try:\n",
    "            result[field] = output[field]\n",
    "        except:\n",
    "            result[field] = ''\n",
    "    if 'drugs' in output.keys():\n",
    "        for field in list_drug:\n",
    "            value = \"\"\n",
    "            for drug in output['drugs']:\n",
    "                for key, val in drug.items():\n",
    "                    if key == field:\n",
    "                        value += val\n",
    "            result[field] = value\n",
    "    return result"
   ]
  },
  {
   "cell_type": "code",
   "execution_count": 37,
   "metadata": {},
   "outputs": [],
   "source": [
    "def get_outputs_labels_all(path_output, path_labels):\n",
    "    names = os.listdir(path_output)\n",
    "    name_txts = []\n",
    "    preds = []\n",
    "    labels = []\n",
    "    for name in names:\n",
    "        # check file json\n",
    "        if name.split('.')[1] == 'txt':\n",
    "            name_txts.append(name)\n",
    "            continue\n",
    "\n",
    "        # correct -> read output and label\n",
    "        pred_path = os.path.join(path_output, name)\n",
    "        with open(pred_path, 'r') as f:\n",
    "            pred = json.load(f)\n",
    "            pred = convert_output(pred)\n",
    "\n",
    "        label_path = os.path.join(path_labels, name)\n",
    "        with open(label_path, 'r') as f:\n",
    "            label = json.load(f)\n",
    "        \n",
    "        label = convert_dict_concern_fileds(label, concern_fileds=field_list_all)\n",
    "        pred  = convert_dict_concern_fileds(pred, concern_fileds=field_list_all, is_label=False)\n",
    "\n",
    "        labels.append(label)\n",
    "        preds.append(pred)\n",
    "    return preds, labels, name_txts"
   ]
  },
  {
   "cell_type": "code",
   "execution_count": 38,
   "metadata": {},
   "outputs": [
    {
     "data": {
      "text/plain": [
       "({'current_institute': 'toa thuốc bhyt',\n",
       "  'name': '',\n",
       "  'gender': 'nam',\n",
       "  'birth': '1948',\n",
       "  'age': '',\n",
       "  'address': 'xã hưng công- bình lục- hà nam',\n",
       "  'tel_customer': '',\n",
       "  'id_bhyt': 'ht 2 35 35 205 86508',\n",
       "  'diagnosis': 'm47 - hư cột sống (thoái hoá cột sống)',\n",
       "  'date_in': '03/05/2021 18:03:59',\n",
       "  'doctor_name': 'bs. trương văn nghĩa',\n",
       "  'drug_name': 'panactol 500mg slfengshi-opc viên phong thấp sl',\n",
       "  'drug_dose': 'sáng 2 viên chiều 2 viênsáng 2 viên chiều 2 viên',\n",
       "  'drug_quantity': '20 viên20 viên'},\n",
       " {'current_institute': 'huyện lý nhân',\n",
       "  'name': 'nguyễn văn tiến',\n",
       "  'birth': '1948',\n",
       "  'gender': 'nam',\n",
       "  'address': 'xã hưng công - bình lục - hà nam',\n",
       "  'id_bhyt': 'ht 2 35 35 205 86508',\n",
       "  'diagnosis': 'm47 - hư cột sống (thoái hoá cột sống)',\n",
       "  'drug_name': 'panactol 500mg fengshi-opc viên phong thấp 0,7mg+852mg+232mg+50mg',\n",
       "  'drug_quantity': '20 viên 20 viên',\n",
       "  'drug_dose': 'uống sáng 2 viên chiều 2 viên uống sáng 2 viên chiều 2 viên',\n",
       "  'date_in': 'ngày 30 / 09 / 2020',\n",
       "  'doctor_name': 'bs. trương văn nghĩa'})"
      ]
     },
     "execution_count": 38,
     "metadata": {},
     "output_type": "execute_result"
    }
   ],
   "source": [
    "preds_json[5], labels_json[5]"
   ]
  },
  {
   "cell_type": "code",
   "execution_count": 30,
   "metadata": {},
   "outputs": [
    {
     "data": {
      "text/plain": [
       "'Long_Chau_275.json'"
      ]
     },
     "execution_count": 30,
     "metadata": {},
     "output_type": "execute_result"
    }
   ],
   "source": [
    "os.listdir(path_mistral)[0]"
   ]
  },
  {
   "cell_type": "code",
   "execution_count": 39,
   "metadata": {},
   "outputs": [
    {
     "name": "stdout",
     "output_type": "stream",
     "text": [
      "Số lượng file lỗi format:  18\n"
     ]
    },
    {
     "name": "stderr",
     "output_type": "stream",
     "text": [
      "/home/vinbig/Documents/PA_Modeling/Prompt/evaluation.py:221: RuntimeWarning: invalid value encountered in scalar divide\n",
      "  zss.distance(\n",
      "/home/vinbig/Documents/PA_Modeling/Prompt/evaluation.py:221: RuntimeWarning: divide by zero encountered in scalar divide\n",
      "  zss.distance(\n"
     ]
    }
   ],
   "source": [
    "preds_json, labels_json, name_txts_json = get_outputs_labels_all(path_labels=path_labels, path_output=path_mistral)\n",
    "acc_mean_json = compute(preds_json, labels_json, name_txts_json, field_list_all)"
   ]
  },
  {
   "cell_type": "code",
   "execution_count": 40,
   "metadata": {},
   "outputs": [
    {
     "data": {
      "text/plain": [
       "[0.701759171349908,\n",
       " 0.574970694442844,\n",
       " 0.9483783274951847,\n",
       " 0.7975510204081634,\n",
       " 0.44196483788320523,\n",
       " 0.22543030199092626,\n",
       " 0.8528039194103687,\n",
       " 0.3864002664002664,\n",
       " 0.30010767024935986,\n",
       " 0.8369013801764318,\n",
       " 0.5430020193340258,\n",
       " 0.478864786589648,\n",
       " 0.7342894563652456,\n",
       " 0.6528209710584773,\n",
       " 0.672873526040459]"
      ]
     },
     "execution_count": 40,
     "metadata": {},
     "output_type": "execute_result"
    }
   ],
   "source": [
    "acc_mean_json"
   ]
  },
  {
   "cell_type": "code",
   "execution_count": 41,
   "metadata": {},
   "outputs": [],
   "source": [
    "import pandas as pd"
   ]
  },
  {
   "cell_type": "code",
   "execution_count": 42,
   "metadata": {},
   "outputs": [
    {
     "data": {
      "text/html": [
       "<div>\n",
       "<style scoped>\n",
       "    .dataframe tbody tr th:only-of-type {\n",
       "        vertical-align: middle;\n",
       "    }\n",
       "\n",
       "    .dataframe tbody tr th {\n",
       "        vertical-align: top;\n",
       "    }\n",
       "\n",
       "    .dataframe thead th {\n",
       "        text-align: right;\n",
       "    }\n",
       "</style>\n",
       "<table border=\"1\" class=\"dataframe\">\n",
       "  <thead>\n",
       "    <tr style=\"text-align: right;\">\n",
       "      <th></th>\n",
       "      <th>all</th>\n",
       "      <th>current_institute</th>\n",
       "      <th>name</th>\n",
       "      <th>gender</th>\n",
       "      <th>birth</th>\n",
       "      <th>age</th>\n",
       "      <th>address</th>\n",
       "      <th>tel_customer</th>\n",
       "      <th>id_bhyt</th>\n",
       "      <th>diagnosis</th>\n",
       "      <th>date_in</th>\n",
       "      <th>doctor_name</th>\n",
       "      <th>drug_name</th>\n",
       "      <th>drug_dose</th>\n",
       "      <th>drug_quantity</th>\n",
       "    </tr>\n",
       "  </thead>\n",
       "  <tbody>\n",
       "    <tr>\n",
       "      <th>mistral</th>\n",
       "      <td>0.701759</td>\n",
       "      <td>0.574971</td>\n",
       "      <td>0.948378</td>\n",
       "      <td>0.797551</td>\n",
       "      <td>0.441965</td>\n",
       "      <td>0.22543</td>\n",
       "      <td>0.852804</td>\n",
       "      <td>0.3864</td>\n",
       "      <td>0.300108</td>\n",
       "      <td>0.836901</td>\n",
       "      <td>0.543002</td>\n",
       "      <td>0.478865</td>\n",
       "      <td>0.734289</td>\n",
       "      <td>0.652821</td>\n",
       "      <td>0.672874</td>\n",
       "    </tr>\n",
       "    <tr>\n",
       "      <th>mistral_json</th>\n",
       "      <td>0.701759</td>\n",
       "      <td>0.574971</td>\n",
       "      <td>0.948378</td>\n",
       "      <td>0.797551</td>\n",
       "      <td>0.441965</td>\n",
       "      <td>0.22543</td>\n",
       "      <td>0.852804</td>\n",
       "      <td>0.3864</td>\n",
       "      <td>0.300108</td>\n",
       "      <td>0.836901</td>\n",
       "      <td>0.543002</td>\n",
       "      <td>0.478865</td>\n",
       "      <td>0.734289</td>\n",
       "      <td>0.652821</td>\n",
       "      <td>0.672874</td>\n",
       "    </tr>\n",
       "  </tbody>\n",
       "</table>\n",
       "</div>"
      ],
      "text/plain": [
       "                   all  current_institute      name    gender     birth  \\\n",
       "mistral       0.701759           0.574971  0.948378  0.797551  0.441965   \n",
       "mistral_json  0.701759           0.574971  0.948378  0.797551  0.441965   \n",
       "\n",
       "                  age   address  tel_customer   id_bhyt  diagnosis   date_in  \\\n",
       "mistral       0.22543  0.852804        0.3864  0.300108   0.836901  0.543002   \n",
       "mistral_json  0.22543  0.852804        0.3864  0.300108   0.836901  0.543002   \n",
       "\n",
       "              doctor_name  drug_name  drug_dose  drug_quantity  \n",
       "mistral          0.478865   0.734289   0.652821       0.672874  \n",
       "mistral_json     0.478865   0.734289   0.652821       0.672874  "
      ]
     },
     "execution_count": 42,
     "metadata": {},
     "output_type": "execute_result"
    }
   ],
   "source": [
    "column_name_all = ['all', 'current_institute', 'name', 'gender', 'birth', 'age', 'address', 'tel_customer', 'id_bhyt', 'diagnosis', 'date_in', 'doctor_name', 'drug_name', 'drug_dose', 'drug_quantity']\n",
    "\n",
    "model_name = [\"mistral\", \"mistral_json\"]\n",
    "df = pd.DataFrame([acc_mean_json, acc_mean_json], columns=column_name_all, index=model_name)\n",
    "df"
   ]
  },
  {
   "cell_type": "code",
   "execution_count": null,
   "metadata": {},
   "outputs": [],
   "source": []
  },
  {
   "cell_type": "code",
   "execution_count": null,
   "metadata": {},
   "outputs": [],
   "source": []
  }
 ],
 "metadata": {
  "kernelspec": {
   "display_name": "prompt",
   "language": "python",
   "name": "python3"
  },
  "language_info": {
   "codemirror_mode": {
    "name": "ipython",
    "version": 3
   },
   "file_extension": ".py",
   "mimetype": "text/x-python",
   "name": "python",
   "nbconvert_exporter": "python",
   "pygments_lexer": "ipython3",
   "version": "3.9.18"
  }
 },
 "nbformat": 4,
 "nbformat_minor": 2
}
