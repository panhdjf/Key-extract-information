{
 "cells": [
  {
   "cell_type": "code",
   "execution_count": 1,
   "metadata": {},
   "outputs": [
    {
     "data": {
      "text/plain": [
       "True"
      ]
     },
     "execution_count": 1,
     "metadata": {},
     "output_type": "execute_result"
    }
   ],
   "source": [
    "from dotenv import load_dotenv\n",
    "# from pytesseract import image_to_string\n",
    "from PIL import Image\n",
    "from io import BytesIO\n",
    "# import pypdfium2 as pdfium\n",
    "import streamlit as st\n",
    "import multiprocessing\n",
    "# from tempfile import NamedTemporaryFile\n",
    "import pandas as pd\n",
    "import json\n",
    "import requests\n",
    "import torch\n",
    "from transformers import AutoTokenizer, AutoModelForCausalLM, BitsAndBytesConfig\n",
    "from langchain_community.llms.huggingface_pipeline import HuggingFacePipeline\n",
    "import os\n",
    "# from tempfile import NamedTemporaryFile\n",
    "from jsonformer.format import highlight_values\n",
    "# from jsonformer.main import Jsonformer\n",
    "from langchain_experimental.llms import JsonFormer\n",
    "from transformers import TextStreamer, pipeline\n",
    "\n",
    "from langchain import PromptTemplate\n",
    "from langchain.chains import LLMChain\n",
    "import time\n",
    "load_dotenv()"
   ]
  },
  {
   "cell_type": "code",
   "execution_count": 2,
   "metadata": {},
   "outputs": [
    {
     "data": {
      "application/vnd.jupyter.widget-view+json": {
       "model_id": "5bcb85e0b9694e8bb50a01bc3b66a2a9",
       "version_major": 2,
       "version_minor": 0
      },
      "text/plain": [
       "Loading checkpoint shards:   0%|          | 0/2 [00:00<?, ?it/s]"
      ]
     },
     "metadata": {},
     "output_type": "display_data"
    }
   ],
   "source": [
    "nf4_config = BitsAndBytesConfig(\n",
    "   load_in_4bit=True,\n",
    "   bnb_4bit_quant_type=\"nf4\",\n",
    "   bnb_4bit_use_double_quant=True,\n",
    "   bnb_4bit_compute_dtype=torch.bfloat16\n",
    ")\n",
    "\n",
    "\n",
    "model_id = 'mychen76/mistral7b_ocr_to_json_v1'\n",
    "cache_dir = '/u01/tmp/mistral_7b_json'\n",
    "\n",
    "# model_id = 'mistralai/Mistral-7B-v0.1'\n",
    "# cache_dir = '/home/vinbig/Documents/PA_Modeling/Prompt/mistral_tmp'\n",
    "\n",
    "model = AutoModelForCausalLM.from_pretrained(\n",
    "    model_id,\n",
    "    quantization_config=nf4_config,\n",
    "    # device_map=\"auto\",\n",
    "    cache_dir=cache_dir,\n",
    "    \n",
    ")\n",
    "tokenizer = AutoTokenizer.from_pretrained(model_id, cache_dir=cache_dir)\n",
    "if tokenizer.pad_token_id is None:\n",
    "    tokenizer.pad_token_id = tokenizer.eos_token_id"
   ]
  },
  {
   "cell_type": "code",
   "execution_count": 3,
   "metadata": {},
   "outputs": [
    {
     "name": "stderr",
     "output_type": "stream",
     "text": [
      "/home/vinbig/miniconda3/envs/prompt/lib/python3.9/site-packages/transformers/pipelines/text_generation.py:148: UserWarning: Stopping on a multiple token sequence is not yet supported on transformers. The first token of the stop sequence will be used as the stop sequence string in the interim.\n",
      "  warnings.warn(\n"
     ]
    }
   ],
   "source": [
    "template = \"\"\"\n",
    "You are an AI Assistant in the medical field. Your goal is to provide the Human with information extracted from the Human\"s prescription. Think step by step and never skip any step.\n",
    "Please try to extract all data points. Do not add or omit any information. If you don\"t know, just answer \"don\"t know\" and do not include information that is not in the document in your answer.\n",
    "{data_points}\n",
    "    \n",
    "EXAMPLES\n",
    "----\n",
    "Human: BỆNH VIỆN VIETT ĐỨC Số toa: 71 Nhà thuốc Bệnh viện Số điện thoại: 02435766328 Năm sinh: 1963 15A-Phương Mai-Đống Đa-Hà Nội PHIÊU THU TIỀN Xuất từ: Quầy Thuốc 1 In: Quầy Thuốc Lần in: 1 Giờ in: 08:15:54 Họ tên bệnh nhân: LÊ NGỌC LAN Mã bệnh nhân: 0029212798 Bác sĩ khám bệnh: Ths.BS TRỊNH MINH TRANG TT Tên mặt hàng ĐVT SL Đơn giá Thành tiền Spulit 100mg Viên 60 17.655 1.059.300 2 Ziaja Med Anti-imperfections Formula Cleansing Body Gel (Gel tắm ngừa khuẩn) 400ml Chai 1 499.460 499.460 3 Notis Antidanruff Shampoo 125ml Chai 2 248.600 497.200 4 Amisea 167mg Viên 30 6.420 192.600 5 Cafunten 10g Tuýp 4 6.527 26.108 Tổng khoản: 5 Tổng tiền: 2.274.668 Bằng chữ: Hai triệu hai trăm bảy mượi bốn nghìn sáu trăm sáu mươi tám đồng. Ngày 26 tháng 04 năm 2022 Người thu tiền Người nhận thuốc ngay trong ngày Lưu Trường hợp khách hàng có đơn tài chính đề nghị lấy (Quá ngày Bệnh viện không với nhân viên (Ký, họ tên) (Ký, họ tên) nhà thuốc để được hướng dẫn) Trân trọng cảm ơn Quý khách đã mua thuốc tại Bệnh viện. NGUYỄN HÀ MY LÊ NGỌC LAN\n",
    "AI ASSISTANT: {{\"current_institute\": \"BỆNH VIỆN VIỆT ĐỨC\", \"name\": \"LÊ NGỌC LAN\", \"gender\": \"\", \"birth\": \"1963\", \"age\": \"\", \"address\": \"\", \"tel_customer\": \"\", \"id_bhyt\": \"\", \"diagnosis\": \"\", \"date_in\": \"Ngày 26 tháng 04 năm 2022\", \"doctor_name\": \"Ths.BS TRỊNH MINH TRANG\"}} END\n",
    "\n",
    "Human: ! Mã BN:2101002494 Số: 211002020 Mã hồ sơ: 2110150077 Kho:110-Kho Ngoại trú ĐƠN THUỐC BẢO HIỂM KKB.43333 Giới tính: Nam Đối tượng: Số thẻ BHYT: CK2383820079366 Địa chỉ: Lê Hoàn 2, Điện Biên, Thành phố Thanh Hóa, Tỉnh Thanh Hóa, Việt Nam Chẩn đoán: E11-Bệnh đái tháo đường không phụ thuộc insuline/ E78-1 Rối loạn chuyển Phòng: Phòng khám 326 Họ tên: LÊ HỒNG KHANH hóa lipoprotein và tình trạng tăng lipid máu khác / Bảo Hiểm Nơi ĐK KCB BĐ: 38280 Ngày sinh: 18/06/1956 Tuổi: 65 SĐT: 0912 660 254 STT Tên thuốc- Cách dùng ĐVT Số lượng BETICAPO 750 SR-750mg (Metformin) Ngày uống 1 viên sau ăn chiều. Viên 60 2 Gliclada 60mg modified- release tablets (Gliclazid) 3 Ngày uống 2 viên trước ăn sáng 30 phút TV. Fenofibrat- 200mg (Fenofibrat) Viên 120 Uống tối 1 viên ngay sau ăn Viên 60 Cộng khoản: 3 loại Lưu Khám lại khi thấy bất thường và khi hết thuốc. Kế toán Thủ kho Người bệnh Ngày 15 tháng 10 năm 2021 Bác sĩ khám (Ký và ghi rõ họ, tên) (Ký và ghi rõ họ, tên) Khih Lê Văn Chinh ISOFH-Người in: Lê Văn Chinh, ngày in: 15/10/2021 08:24\n",
    "AI ASSISTANT: {{\"current_institute\": \"\", \"name\": \"LÊ HỒNG KHANH\",  \"gender\": \"Nam\", \"birth\" : \"18/06/1956\", \"age\": \"65\", \"address\": \"Lê Hoàn 2, Điện Biên, Thành phố Thanh Hóa, Tỉnh Thanh Hóa, Việt Nam\", \"tel_customer\": \"0912 660 254\", \"id_bhyt\": \"CK2383820079366\", \"diagnosis\": \"E11 - Bệnh đái tháo đường không phụ thuộc insuline / E78 - Rối loạn chuyển hóa lipoprotein và tình trạng tăng lipid máu khác\", \"date_in\": \"Ngày 15 tháng 10 năm 2021\", \"doctor_name\": \"Lê Văn Chinh\"}} END\n",
    "\n",
    "------    \n",
    "Human: {content}\n",
    "AI ASSISTANT:\n",
    "\"\"\".strip()\n",
    "\n",
    "data_points = \"\"\"{\n",
    "    \"current_institute\": \"name of the hospital or clinic issuing the prescription\",\n",
    "    \"name\": \"patient full name\",\n",
    "    \"gender\": \"patient gender\",\n",
    "    \"birth\": \"date of birth\",\n",
    "    \"age\": \"patient age\",\n",
    "    \"address\": \"patient address\",\n",
    "    \"tel_customer\": \"patient phone number\",\n",
    "    \"id_bhyt\": \"health insurance card number\",\n",
    "    \"diagnosis\": \"diagnosis\",\n",
    "    \"date_in\": \"issued date\",\n",
    "    \"doctor_name\": \"doctor full name\",\n",
    "}\"\"\"\n",
    "\n",
    "json_schema = {\n",
    "    \"type\": \"object\",\n",
    "    \"properties\": {\n",
    "        \"current_institute\": {\"type\": \"string\"},\n",
    "        \"name\": {\"type\": \"string\"},\n",
    "        \"gender\": {\"type\": \"string\"},\n",
    "        \"birth\": {\"type\": \"string\"},\n",
    "        \"age\": {\"type\": \"string\"},\n",
    "        \"address\": {\"type\": \"string\"},\n",
    "        \"tel_customer\": {\"type\": \"string\"},\n",
    "        \"id_bhyt\": {\"type\": \"string\"},\n",
    "        \"diagnosis\": {\"type\": \"string\"},\n",
    "        \"drugs\": {\n",
    "            \"type\": \"array\",\n",
    "            \"drugs\": {\n",
    "                \"type\": \"object\",\n",
    "                \"properties\": {\n",
    "                    \"drug_name\": {\"type\": \"string\"},\n",
    "                    \"drug_dose\": {\"type\": \"string\"},\n",
    "                    \"drug_quantity\": {\"type\": \"string\"}\n",
    "                }\n",
    "            }\n",
    "        },\n",
    "        \"date_in\": {\"type\": \"string\"},\n",
    "        \"doctor_name\": {\"type\": \"string\"},                \n",
    "    }\n",
    "}\n",
    "\n",
    " \n",
    "text_pipeline = pipeline(\n",
    "    \"text-generation\",\n",
    "    model=model,\n",
    "    tokenizer=tokenizer,\n",
    "    max_new_tokens=50,\n",
    "    temperature=0,\n",
    "    top_k=50,\n",
    "    top_p=0.95,\n",
    "    repetition_penalty=1.15,\n",
    "    # streamer=streamer,\n",
    "    stop_sequence = ['END\\n', '\\n']\n",
    "    )\n",
    "\n",
    "builder = JsonFormer(json_schema=json_schema, pipeline=text_pipeline, batch_size=4)\n"
   ]
  },
  {
   "cell_type": "code",
   "execution_count": 4,
   "metadata": {},
   "outputs": [],
   "source": [
    "from torch.utils.data import Dataset\n",
    "import os \n",
    "import ast\n",
    "import json\n",
    "class CustomDataset(Dataset):\n",
    "    def __init__(self, text_folder,template = template, data_points=data_points):\n",
    "        self.text_files = [os.path.join(text_folder, file) for file in os.listdir(text_folder)[:50]]\n",
    "        self.text_files.sort()\n",
    "        self.template=template\n",
    "        self.data_points=data_points\n",
    "\n",
    "    def __len__(self):\n",
    "        return len(self.text_files)\n",
    "    \n",
    "    def __getitem__(self, index):\n",
    "        with open(self.text_files[index],'r', encoding='utf-8') as file:\n",
    "            text_content = file.read()\n",
    "            text = template.format(content=text_content, data_points=data_points)\n",
    "        return text\n",
    "    @property\n",
    "    def num_rows(self):\n",
    "        return len(self)\n",
    "    \n",
    "data = CustomDataset(\"/home/vinbig/Documents/PA_Modeling/Prompt/private_test_Pharma/ocr_text\")"
   ]
  },
  {
   "cell_type": "code",
   "execution_count": 5,
   "metadata": {},
   "outputs": [
    {
     "data": {
      "text/plain": [
       "__main__.CustomDataset"
      ]
     },
     "execution_count": 5,
     "metadata": {},
     "output_type": "execute_result"
    }
   ],
   "source": [
    "type(data)"
   ]
  },
  {
   "cell_type": "code",
   "execution_count": 7,
   "metadata": {},
   "outputs": [
    {
     "ename": "ValueError",
     "evalue": "Argument 'prompts' is expected to be of type List[str], received argument of type <class '__main__.CustomDataset'>.",
     "output_type": "error",
     "traceback": [
      "\u001b[0;31m---------------------------------------------------------------------------\u001b[0m",
      "\u001b[0;31mValueError\u001b[0m                                Traceback (most recent call last)",
      "Cell \u001b[0;32mIn[7], line 11\u001b[0m\n\u001b[1;32m      6\u001b[0m \u001b[38;5;66;03m# for batch_size in [1, 4]:\u001b[39;00m\n\u001b[1;32m      7\u001b[0m \u001b[38;5;66;03m#     str = time.time()\u001b[39;00m\n\u001b[1;32m      8\u001b[0m \u001b[38;5;66;03m#     print(\"-\" * 30)\u001b[39;00m\n\u001b[1;32m      9\u001b[0m \u001b[38;5;66;03m#     print(f\"Streaming batch_size={batch_size}\")\u001b[39;00m\n\u001b[1;32m     10\u001b[0m \u001b[38;5;28mstr\u001b[39m \u001b[38;5;241m=\u001b[39m time\u001b[38;5;241m.\u001b[39mtime()\n\u001b[0;32m---> 11\u001b[0m \u001b[38;5;28;01mfor\u001b[39;00m out \u001b[38;5;129;01min\u001b[39;00m tqdm(\u001b[43mbuilder\u001b[49m\u001b[38;5;241;43m.\u001b[39;49m\u001b[43mgenerate\u001b[49m\u001b[43m(\u001b[49m\u001b[43mdata\u001b[49m\u001b[43m)\u001b[49m, total\u001b[38;5;241m=\u001b[39m\u001b[38;5;28mlen\u001b[39m(data)):\n\u001b[1;32m     12\u001b[0m     \u001b[38;5;28mprint\u001b[39m(out)\n\u001b[1;32m     13\u001b[0m \u001b[38;5;28mprint\u001b[39m(\u001b[38;5;124m\"\u001b[39m\u001b[38;5;124mTG:\u001b[39m\u001b[38;5;124m\"\u001b[39m, time\u001b[38;5;241m.\u001b[39mtime()\u001b[38;5;241m-\u001b[39m\u001b[38;5;28mstr\u001b[39m)\n",
      "File \u001b[0;32m~/miniconda3/envs/prompt/lib/python3.9/site-packages/langchain_core/language_models/llms.py:576\u001b[0m, in \u001b[0;36mBaseLLM.generate\u001b[0;34m(self, prompts, stop, callbacks, tags, metadata, run_name, **kwargs)\u001b[0m\n\u001b[1;32m    574\u001b[0m \u001b[38;5;250m\u001b[39m\u001b[38;5;124;03m\"\"\"Run the LLM on the given prompt and input.\"\"\"\u001b[39;00m\n\u001b[1;32m    575\u001b[0m \u001b[38;5;28;01mif\u001b[39;00m \u001b[38;5;129;01mnot\u001b[39;00m \u001b[38;5;28misinstance\u001b[39m(prompts, \u001b[38;5;28mlist\u001b[39m):\n\u001b[0;32m--> 576\u001b[0m     \u001b[38;5;28;01mraise\u001b[39;00m \u001b[38;5;167;01mValueError\u001b[39;00m(\n\u001b[1;32m    577\u001b[0m         \u001b[38;5;124m\"\u001b[39m\u001b[38;5;124mArgument \u001b[39m\u001b[38;5;124m'\u001b[39m\u001b[38;5;124mprompts\u001b[39m\u001b[38;5;124m'\u001b[39m\u001b[38;5;124m is expected to be of type List[str], received\u001b[39m\u001b[38;5;124m\"\u001b[39m\n\u001b[1;32m    578\u001b[0m         \u001b[38;5;124mf\u001b[39m\u001b[38;5;124m\"\u001b[39m\u001b[38;5;124m argument of type \u001b[39m\u001b[38;5;132;01m{\u001b[39;00m\u001b[38;5;28mtype\u001b[39m(prompts)\u001b[38;5;132;01m}\u001b[39;00m\u001b[38;5;124m.\u001b[39m\u001b[38;5;124m\"\u001b[39m\n\u001b[1;32m    579\u001b[0m     )\n\u001b[1;32m    580\u001b[0m \u001b[38;5;66;03m# Create callback managers\u001b[39;00m\n\u001b[1;32m    581\u001b[0m \u001b[38;5;28;01mif\u001b[39;00m (\n\u001b[1;32m    582\u001b[0m     \u001b[38;5;28misinstance\u001b[39m(callbacks, \u001b[38;5;28mlist\u001b[39m)\n\u001b[1;32m    583\u001b[0m     \u001b[38;5;129;01mand\u001b[39;00m callbacks\n\u001b[0;32m   (...)\u001b[0m\n\u001b[1;32m    588\u001b[0m ):\n\u001b[1;32m    589\u001b[0m     \u001b[38;5;66;03m# We've received a list of callbacks args to apply to each input\u001b[39;00m\n",
      "\u001b[0;31mValueError\u001b[0m: Argument 'prompts' is expected to be of type List[str], received argument of type <class '__main__.CustomDataset'>."
     ]
    }
   ],
   "source": [
    "from transformers import pipeline\n",
    "from torch.utils.data import Dataset\n",
    "from tqdm.auto import tqdm\n",
    "\n",
    "import time\n",
    "# for batch_size in [1, 4]:\n",
    "#     str = time.time()\n",
    "#     print(\"-\" * 30)\n",
    "#     print(f\"Streaming batch_size={batch_size}\")\n",
    "str = time.time()\n",
    "for out in tqdm(builder.generate(data), total=len(data)):\n",
    "    print(out)\n",
    "print(\"TG:\", time.time()-str)"
   ]
  },
  {
   "cell_type": "code",
   "execution_count": null,
   "metadata": {},
   "outputs": [],
   "source": []
  }
 ],
 "metadata": {
  "kernelspec": {
   "display_name": "prompt",
   "language": "python",
   "name": "python3"
  },
  "language_info": {
   "codemirror_mode": {
    "name": "ipython",
    "version": 3
   },
   "file_extension": ".py",
   "mimetype": "text/x-python",
   "name": "python",
   "nbconvert_exporter": "python",
   "pygments_lexer": "ipython3",
   "version": "3.9.18"
  }
 },
 "nbformat": 4,
 "nbformat_minor": 2
}
