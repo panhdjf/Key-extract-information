{
 "cells": [
  {
   "cell_type": "code",
   "execution_count": 2,
   "metadata": {},
   "outputs": [],
   "source": [
    "import requests\n",
    "import json\n",
    "from evaluation import JSONParseEvaluator\n",
    "import os\n",
    "import numpy as np\n",
    "from tqdm import tqdm\n",
    "from os.path import join, basename, splitext"
   ]
  },
  {
   "cell_type": "code",
   "execution_count": null,
   "metadata": {},
   "outputs": [],
   "source": [
    "# 1. Read Text\n",
    "def load_conversation(filename):\n",
    "\n",
    "    with open(filename, \"r\", encoding=\"utf8\") as f:\n",
    "        conversation = f.read()\n",
    "    conversation = conversation.replace(\"\\n\", \" \")\n",
    "    print(\"Text:\\n\", conversation, \"\\n\")\n",
    "    return conversation\n",
    "# 2. Read Label\n",
    "def get_label(path):\n",
    "    with open(path, 'r', encoding='utf-8') as file:\n",
    "        data = json.load(file)\n",
    "\n",
    "    # Các trường cần trích xuất\n",
    "    fields = ['current institute', 'name', 'gender', 'birth', 'age', 'address', 'tel customer', 'id bhyt', 'diagnosis', 'date in', 'doctor name']\n",
    "\n",
    "\n",
    "    # Tạo dictionary kết quả\n",
    "    result = {}\n",
    "    for field in fields:\n",
    "        if field in data:\n",
    "            result[field] = data[field]['value']\n",
    "\n",
    "    return result"
   ]
  },
  {
   "cell_type": "code",
   "execution_count": null,
   "metadata": {},
   "outputs": [],
   "source": [
    "\n",
    "out = requests.post(\"http://210.211.125.214:2023/kie\", json={\"doc_text\": raw_text, 'model': ranker}).json()"
   ]
  },
  {
   "cell_type": "code",
   "execution_count": null,
   "metadata": {},
   "outputs": [],
   "source": [
    "# names = [\"Long_Chau_60\", \"Long_Chau_82\", \"Long_Chau_92\", \"Long_Chau_102\", \"Long_Chau_118\", \"Long_Chau_221\", \"Long_Chau_232\", \"Long_Chau_265\", \"Long_Chau_329\"]\n",
    "path_inputs = '/home/vinbig/Documents/PA_Modeling/Prompt/private_test_Pharma/ocr_text'\n",
    "names = os.listdir(path_inputs)\n",
    "names = [name.split('.')[0] for name in names]\n",
    "# print(names)\n",
    "path_labels = '/home/vinbig/Documents/PA_Modeling/Prompt/private_test_Pharma/KIEs'"
   ]
  }
 ],
 "metadata": {
  "kernelspec": {
   "display_name": "prompt",
   "language": "python",
   "name": "python3"
  },
  "language_info": {
   "codemirror_mode": {
    "name": "ipython",
    "version": 3
   },
   "file_extension": ".py",
   "mimetype": "text/x-python",
   "name": "python",
   "nbconvert_exporter": "python",
   "pygments_lexer": "ipython3",
   "version": "3.9.18"
  }
 },
 "nbformat": 4,
 "nbformat_minor": 2
}
