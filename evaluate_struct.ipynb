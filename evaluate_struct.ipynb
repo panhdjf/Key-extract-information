{
 "cells": [
  {
   "cell_type": "code",
   "execution_count": 1,
   "metadata": {},
   "outputs": [],
   "source": [
    "from evaluation import JSONParseEvaluator\n",
    "\n",
    "import os, glob, json\n",
    "import argparse\n",
    "import numpy as np\n",
    "from tqdm import tqdm\n",
    "from os.path import join, basename, splitext"
   ]
  },
  {
   "cell_type": "code",
   "execution_count": 2,
   "metadata": {},
   "outputs": [],
   "source": [
    "field_list = [ 'current_institute', 'name', 'gender', 'birth', 'age', 'address', 'tel_customer', 'id_bhyt', 'diagnosis', 'date_in', 'doctor_name', 'drug_name', 'drug_dose', 'drug_quantity']\n",
    "\n",
    "def convert_dict_concern_fileds(raw_dict: dict, concern_fileds=None, is_label=True):\n",
    "    res = {}\n",
    "    if concern_fileds is None:\n",
    "        concern_fileds = list(raw_dict.keys())\n",
    "\n",
    "    for field,data in raw_dict.items():\n",
    "        field = field.replace(' ', '_')\n",
    "        if field in concern_fileds:\n",
    "            res[field] = data['value'].lower() if is_label else data.lower()\n",
    "    return res\n"
   ]
  },
  {
   "cell_type": "code",
   "execution_count": 3,
   "metadata": {},
   "outputs": [],
   "source": [
    "def convert_output(output):\n",
    "    list = ['patient', 'medical']\n",
    "\n",
    "    list_child = [['name', 'gender', 'birth', 'age', 'address', 'tel_customer', 'id_bhyt'], ['current_institute', 'diagnosis', 'date_in', 'doctor_name']]\n",
    "    list_drug = ['drug_name', 'drug_dose', 'drug_quantity']\n",
    "    \n",
    "    result = {}\n",
    "    \n",
    "    for i, name in enumerate(list):\n",
    "        if name in output.keys():\n",
    "            for name_child in list_child[i]:\n",
    "                try:\n",
    "                    result[name_child] = output[name][name_child]\n",
    "                except:\n",
    "                    result[name_child] = ''\n",
    "    if 'drugs' in output.keys():\n",
    "        for field in list_drug:\n",
    "            value = \"\"\n",
    "            for drug in output['drugs']:\n",
    "                for key, val in drug.items():\n",
    "                    if key == field:\n",
    "                        value += val\n",
    "            result[field] = value\n",
    "    return result"
   ]
  },
  {
   "cell_type": "code",
   "execution_count": 4,
   "metadata": {},
   "outputs": [],
   "source": [
    "\n",
    "path_mistral_1 = '/home/vinbig/Documents/PA_Modeling/Prompt/private_test_Pharma_out_full_En_struct/Mistral-7B'\n",
    "path_mistral_json_1 = '/home/vinbig/Documents/PA_Modeling/Prompt/private_test_Pharma_out_full_En_struct/Mistral-7B-json'\n",
    "\n",
    "path_labels = '/home/vinbig/Documents/PA_Modeling/Prompt/prescription_label_text/KIEs'"
   ]
  },
  {
   "cell_type": "code",
   "execution_count": 5,
   "metadata": {},
   "outputs": [],
   "source": [
    "def get_outputs_labels(path_output, path_labels):\n",
    "    names = os.listdir(path_output)\n",
    "    name_txts = []\n",
    "    preds = []\n",
    "    labels = []\n",
    "    for name in names:\n",
    "        # check file json\n",
    "        if name.split('.')[1] == 'txt':\n",
    "            name_txts.append(name)\n",
    "            continue\n",
    "\n",
    "        # correct -> read output and label\n",
    "        pred_path = os.path.join(path_output, name)\n",
    "        with open(pred_path, 'r') as f:\n",
    "            pred = json.load(f)\n",
    "        #convert\n",
    "        pred = convert_output(pred)\n",
    "\n",
    "        label_path = os.path.join(path_labels, name)\n",
    "        with open(label_path, 'r') as f:\n",
    "            label = json.load(f)\n",
    "        \n",
    "        label = convert_dict_concern_fileds(label, concern_fileds=field_list)\n",
    "        pred  = convert_dict_concern_fileds(pred, concern_fileds=field_list, is_label=False)\n",
    "\n",
    "        labels.append(label)\n",
    "        preds.append(pred)\n",
    "    return preds, labels, name_txts"
   ]
  },
  {
   "cell_type": "code",
   "execution_count": 6,
   "metadata": {},
   "outputs": [],
   "source": [
    "def compute_acc(preds, labels):\n",
    "    evaluator = JSONParseEvaluator()\n",
    "    accs = []\n",
    "    for i in range (len(labels)):\n",
    "        acc = evaluator.cal_acc(pred=preds[i], answer=labels[i])\n",
    "        accs.append(acc)\n",
    "    return np.mean(accs)"
   ]
  },
  {
   "cell_type": "code",
   "execution_count": 7,
   "metadata": {},
   "outputs": [],
   "source": [
    "def get_each_field(field, input):\n",
    "    result = {}\n",
    "    try:\n",
    "        result[field] = input[field]\n",
    "    except:\n",
    "        result[field] = \"\"\n",
    "    return result"
   ]
  },
  {
   "cell_type": "code",
   "execution_count": 9,
   "metadata": {},
   "outputs": [],
   "source": [
    "def compute(preds, labels, name_txts, field_list):\n",
    "    print(\"Số lượng file đúng format: \", len(preds), '/249')\n",
    "    acc_mean = []\n",
    "    # all field\n",
    "    acc = compute_acc(preds, labels)\n",
    "    acc_mean.append(acc)\n",
    "\n",
    "    #each field\n",
    "    for field in field_list:\n",
    "        preds_field = [get_each_field(field=field, input=pred) for pred in preds]\n",
    "        labels_field = [get_each_field(field=field, input=label) for label in labels]\n",
    "        acc_mean.append(compute_acc(preds_field, labels_field))\n",
    "\n",
    "    return acc_mean"
   ]
  },
  {
   "cell_type": "code",
   "execution_count": 10,
   "metadata": {},
   "outputs": [
    {
     "name": "stdout",
     "output_type": "stream",
     "text": [
      "Mistral\n",
      "Số lượng file đúng format:  244 /249\n"
     ]
    },
    {
     "name": "stderr",
     "output_type": "stream",
     "text": [
      "/home/vinbig/Documents/PA_Modeling/Prompt/evaluation.py:221: RuntimeWarning: invalid value encountered in scalar divide\n",
      "  zss.distance(\n",
      "/home/vinbig/Documents/PA_Modeling/Prompt/evaluation.py:221: RuntimeWarning: divide by zero encountered in scalar divide\n",
      "  zss.distance(\n"
     ]
    }
   ],
   "source": [
    "print('Mistral')\n",
    "preds, labels, name_txts = get_outputs_labels(path_labels=path_labels, path_output=path_mistral_1)\n",
    "acc_mean = compute(preds, labels, name_txts, field_list)"
   ]
  },
  {
   "cell_type": "code",
   "execution_count": 11,
   "metadata": {},
   "outputs": [
    {
     "name": "stdout",
     "output_type": "stream",
     "text": [
      "Mistral Json\n",
      "Số lượng file đúng format:  243 /249\n"
     ]
    }
   ],
   "source": [
    "print('Mistral Json')\n",
    "preds_json, labels_json, name_txts_json = get_outputs_labels(path_labels=path_labels, path_output=path_mistral_json_1)\n",
    "acc_mean_json = compute(preds_json, labels_json, name_txts_json, field_list)"
   ]
  },
  {
   "cell_type": "code",
   "execution_count": 12,
   "metadata": {},
   "outputs": [
    {
     "data": {
      "text/html": [
       "<div>\n",
       "<style scoped>\n",
       "    .dataframe tbody tr th:only-of-type {\n",
       "        vertical-align: middle;\n",
       "    }\n",
       "\n",
       "    .dataframe tbody tr th {\n",
       "        vertical-align: top;\n",
       "    }\n",
       "\n",
       "    .dataframe thead th {\n",
       "        text-align: right;\n",
       "    }\n",
       "</style>\n",
       "<table border=\"1\" class=\"dataframe\">\n",
       "  <thead>\n",
       "    <tr style=\"text-align: right;\">\n",
       "      <th></th>\n",
       "      <th>all</th>\n",
       "      <th>current_institute</th>\n",
       "      <th>name</th>\n",
       "      <th>gender</th>\n",
       "      <th>birth</th>\n",
       "      <th>age</th>\n",
       "      <th>address</th>\n",
       "      <th>tel_customer</th>\n",
       "      <th>id_bhyt</th>\n",
       "      <th>diagnosis</th>\n",
       "      <th>date_in</th>\n",
       "      <th>doctor_name</th>\n",
       "      <th>drug_name</th>\n",
       "      <th>drug_dose</th>\n",
       "      <th>drug_quantity</th>\n",
       "    </tr>\n",
       "  </thead>\n",
       "  <tbody>\n",
       "    <tr>\n",
       "      <th>mistral</th>\n",
       "      <td>0.722094</td>\n",
       "      <td>0.475479</td>\n",
       "      <td>0.949712</td>\n",
       "      <td>0.795355</td>\n",
       "      <td>0.451600</td>\n",
       "      <td>0.200538</td>\n",
       "      <td>0.860924</td>\n",
       "      <td>0.387338</td>\n",
       "      <td>0.289811</td>\n",
       "      <td>0.852713</td>\n",
       "      <td>0.689540</td>\n",
       "      <td>0.614229</td>\n",
       "      <td>0.737924</td>\n",
       "      <td>0.658216</td>\n",
       "      <td>0.707648</td>\n",
       "    </tr>\n",
       "    <tr>\n",
       "      <th>mistral_json</th>\n",
       "      <td>0.719617</td>\n",
       "      <td>0.471873</td>\n",
       "      <td>0.951033</td>\n",
       "      <td>0.794513</td>\n",
       "      <td>0.453459</td>\n",
       "      <td>0.209647</td>\n",
       "      <td>0.858016</td>\n",
       "      <td>0.384817</td>\n",
       "      <td>0.291004</td>\n",
       "      <td>0.852583</td>\n",
       "      <td>0.691536</td>\n",
       "      <td>0.614254</td>\n",
       "      <td>0.735374</td>\n",
       "      <td>0.654950</td>\n",
       "      <td>0.708915</td>\n",
       "    </tr>\n",
       "  </tbody>\n",
       "</table>\n",
       "</div>"
      ],
      "text/plain": [
       "                   all  current_institute      name    gender     birth  \\\n",
       "mistral       0.722094           0.475479  0.949712  0.795355  0.451600   \n",
       "mistral_json  0.719617           0.471873  0.951033  0.794513  0.453459   \n",
       "\n",
       "                   age   address  tel_customer   id_bhyt  diagnosis   date_in  \\\n",
       "mistral       0.200538  0.860924      0.387338  0.289811   0.852713  0.689540   \n",
       "mistral_json  0.209647  0.858016      0.384817  0.291004   0.852583  0.691536   \n",
       "\n",
       "              doctor_name  drug_name  drug_dose  drug_quantity  \n",
       "mistral          0.614229   0.737924   0.658216       0.707648  \n",
       "mistral_json     0.614254   0.735374   0.654950       0.708915  "
      ]
     },
     "execution_count": 12,
     "metadata": {},
     "output_type": "execute_result"
    }
   ],
   "source": [
    "import pandas as pd\n",
    "model_name = [\"mistral\", \"mistral_json\"]\n",
    "column_name_all = ['all', 'current_institute', 'name', 'gender', 'birth', 'age', 'address', 'tel_customer', 'id_bhyt', 'diagnosis', 'date_in', 'doctor_name', 'drug_name', 'drug_dose', 'drug_quantity']\n",
    "df = pd.DataFrame([acc_mean, acc_mean_json], columns=column_name_all, index=model_name)\n",
    "df"
   ]
  },
  {
   "cell_type": "code",
   "execution_count": null,
   "metadata": {},
   "outputs": [],
   "source": []
  },
  {
   "cell_type": "code",
   "execution_count": null,
   "metadata": {},
   "outputs": [],
   "source": []
  },
  {
   "cell_type": "code",
   "execution_count": null,
   "metadata": {},
   "outputs": [],
   "source": []
  },
  {
   "cell_type": "code",
   "execution_count": null,
   "metadata": {},
   "outputs": [],
   "source": []
  },
  {
   "cell_type": "code",
   "execution_count": 12,
   "metadata": {},
   "outputs": [
    {
     "data": {
      "text/plain": [
       "{'patient': {'name': 'TA QUANG MINH (MR.)',\n",
       "  'gender': '',\n",
       "  'birth': '17 Oct 1985',\n",
       "  'age': '37Y',\n",
       "  'address': 'HN: 218/3 An Dương Vương, phường 16, Quận 8, Thành phố Hồ Chim',\n",
       "  'tel_customer': '',\n",
       "  'id_bhyt': ''},\n",
       " 'medical': {'current_institute': 'BỆNH VIỆN Guardian:',\n",
       "  'diagnosis': '[K74] FIBROSIS AND CIRRHOSIS OF LIVER',\n",
       "  'date_in': '12 Dec 2022',\n",
       "  'doctor_name': 'Deputy Head of Gastro-nntrrollyy and Hepatology'},\n",
       " 'drugs': [{'drug_name': 'Mirtazapine (REMERON) tab 30mg',\n",
       "   'drug_dose': 'Mỗi lần uống 0.25 viên một lần mỗi ngày vào buổi sáng trong 30 ngày',\n",
       "   'drug_quantity': '08 Viên'},\n",
       "  {'drug_name': 'Propranolol (PROPRANOLOL TV PHARM) tab 40mg',\n",
       "   'drug_dose': 'Mỗi lần uống 0.25 viên một lần mỗi ngày lúc đi ngủ trong 30 ngày',\n",
       "   'drug_quantity': '08 Viên'},\n",
       "  {'drug_name': 'Thiamine (Vit B1) (VITAMIN B1) tab 250mg',\n",
       "   'drug_dose': 'Mỗi lần uống 1 viên hai lần một ngày sau khi ăn trong 30 ngày',\n",
       "   'drug_quantity': '60 Viên'},\n",
       "  {'drug_name': '(LIVACT) 4.15 g/sachet oral granules',\n",
       "   'drug_dose': 'Mỗi lần uống ba lần một ngày sau khi ăn trong 30 ngày',\n",
       "   'drug_quantity': '90 Viên'},\n",
       "  {'drug_name': 'Ursodeoxycholic acid (URSOBIL 300) tab 300mg',\n",
       "   'drug_dose': 'Mỗi lần uống 1 viên ba lần một ngày sau khi ăn trong 30 ngày',\n",
       "   'drug_quantity': '90 Viên'}]}"
      ]
     },
     "execution_count": 12,
     "metadata": {},
     "output_type": "execute_result"
    }
   ],
   "source": [
    "import json\n",
    "path = '/home/vinbig/Documents/PA_Modeling/Prompt/private_test_Pharma_out_full_En_struct/Mistral-7B/Long_Chau_509.json'\n",
    "with open (path, 'r') as f:\n",
    "    out = json.load(f)\n",
    "out"
   ]
  },
  {
   "cell_type": "code",
   "execution_count": 13,
   "metadata": {},
   "outputs": [
    {
     "data": {
      "text/plain": [
       "{'name': 'TA QUANG MINH (MR.)',\n",
       " 'gender': '',\n",
       " 'birth': '17 Oct 1985',\n",
       " 'age': '37Y',\n",
       " 'address': 'HN: 218/3 An Dương Vương, phường 16, Quận 8, Thành phố Hồ Chim',\n",
       " 'tel_customer': '',\n",
       " 'id_bhyt': '',\n",
       " 'current_institute': 'BỆNH VIỆN Guardian:',\n",
       " 'diagnosis': '[K74] FIBROSIS AND CIRRHOSIS OF LIVER',\n",
       " 'date_in': '12 Dec 2022',\n",
       " 'doctor_name': 'Deputy Head of Gastro-nntrrollyy and Hepatology',\n",
       " 'drug_name': 'Mirtazapine (REMERON) tab 30mgPropranolol (PROPRANOLOL TV PHARM) tab 40mgThiamine (Vit B1) (VITAMIN B1) tab 250mg(LIVACT) 4.15 g/sachet oral granulesUrsodeoxycholic acid (URSOBIL 300) tab 300mg',\n",
       " 'drug_dose': 'Mỗi lần uống 0.25 viên một lần mỗi ngày vào buổi sáng trong 30 ngàyMỗi lần uống 0.25 viên một lần mỗi ngày lúc đi ngủ trong 30 ngàyMỗi lần uống 1 viên hai lần một ngày sau khi ăn trong 30 ngàyMỗi lần uống ba lần một ngày sau khi ăn trong 30 ngàyMỗi lần uống 1 viên ba lần một ngày sau khi ăn trong 30 ngày',\n",
       " 'drug_quantity': '08 Viên08 Viên60 Viên90 Viên90 Viên'}"
      ]
     },
     "execution_count": 13,
     "metadata": {},
     "output_type": "execute_result"
    }
   ],
   "source": [
    "convert_output(out)"
   ]
  },
  {
   "cell_type": "code",
   "execution_count": null,
   "metadata": {},
   "outputs": [],
   "source": []
  }
 ],
 "metadata": {
  "kernelspec": {
   "display_name": "prompt",
   "language": "python",
   "name": "python3"
  },
  "language_info": {
   "codemirror_mode": {
    "name": "ipython",
    "version": 3
   },
   "file_extension": ".py",
   "mimetype": "text/x-python",
   "name": "python",
   "nbconvert_exporter": "python",
   "pygments_lexer": "ipython3",
   "version": "3.9.18"
  }
 },
 "nbformat": 4,
 "nbformat_minor": 2
}
