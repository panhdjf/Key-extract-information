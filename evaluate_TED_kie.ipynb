{
 "cells": [
  {
   "cell_type": "code",
   "execution_count": null,
   "metadata": {},
   "outputs": [],
   "source": [
    "from evaluation import JSONParseEvaluator\n",
    "\n",
    "import os, glob, json\n",
    "import argparse\n",
    "import numpy as np\n",
    "from tqdm import tqdm\n",
    "from os.path import join, basename, splitext"
   ]
  },
  {
   "cell_type": "code",
   "execution_count": null,
   "metadata": {},
   "outputs": [],
   "source": [
    "field_list = [ 'current_institute', 'name', 'gender', 'birth', 'age', 'address', 'tel_customer', 'id_bhyt', 'diagnosis', 'date_in', 'doctor_name' ]\n",
    "\n",
    "def convert_dict_concern_fileds(raw_dict: dict, concern_fileds=None, is_label=True):\n",
    "    res = {}\n",
    "    if concern_fileds is None:\n",
    "        concern_fileds = list(raw_dict.keys())\n",
    "\n",
    "    for field,data in raw_dict.items():\n",
    "        field = field.replace(' ', '_')\n",
    "        if field in concern_fileds:\n",
    "            res[field] = data['value'].lower() if is_label else data.lower()\n",
    "\n",
    "    return res\n"
   ]
  },
  {
   "cell_type": "code",
   "execution_count": null,
   "metadata": {},
   "outputs": [],
   "source": [
    "label_path = '/home/phuc/0_DATA/private_test_Pharma/KIEs/Long_Chau_70.json'\n",
    "pred_path  = '/home/phuc/0_DATA/private_test_Pharma/res_bkLllama/Long_Chau_70.json'\n",
    "\n",
    "with open(label_path, 'r') as f:\n",
    "    label = json.load(f)\n",
    "with open(pred_path, 'r') as f:\n",
    "    pred = json.load(f)\n",
    "\n",
    "label = convert_dict_concern_fileds(label, concern_fileds=field_list)\n",
    "pred  = convert_dict_concern_fileds(pred, concern_fileds=field_list, is_label=False)\n",
    "\n",
    "print(label)\n",
    "print()\n",
    "print(pred)\n"
   ]
  },
  {
   "cell_type": "code",
   "execution_count": null,
   "metadata": {},
   "outputs": [],
   "source": [
    "evaluator = JSONParseEvaluator()\n",
    "\n",
    "evaluator.cal_acc(pred=pred, answer=label)"
   ]
  },
  {
   "cell_type": "code",
   "execution_count": null,
   "metadata": {},
   "outputs": [],
   "source": []
  }
 ],
 "metadata": {
  "kernelspec": {
   "display_name": "uni",
   "language": "python",
   "name": "python3"
  },
  "language_info": {
   "codemirror_mode": {
    "name": "ipython",
    "version": 3
   },
   "file_extension": ".py",
   "mimetype": "text/x-python",
   "name": "python",
   "nbconvert_exporter": "python",
   "pygments_lexer": "ipython3",
   "version": "3.7.13"
  }
 },
 "nbformat": 4,
 "nbformat_minor": 2
}
